{
 "cells": [
  {
   "cell_type": "code",
   "execution_count": 1,
   "id": "205d7e53",
   "metadata": {},
   "outputs": [],
   "source": [
    "from cashier import *"
   ]
  },
  {
   "cell_type": "code",
   "execution_count": 2,
   "id": "d7d7d635",
   "metadata": {},
   "outputs": [],
   "source": [
    "trnsct_123=Transaction()"
   ]
  },
  {
   "cell_type": "markdown",
   "id": "c8f401bd",
   "metadata": {},
   "source": [
    "### Test-1 : Menambah Item"
   ]
  },
  {
   "cell_type": "code",
   "execution_count": 3,
   "id": "061a10eb",
   "metadata": {},
   "outputs": [
    {
     "name": "stdout",
     "output_type": "stream",
     "text": [
      "Berhasil menambahkan Ayam Goreng sejumlah 2 item dengan harga per item Rp 50000\n",
      "Berhasil menambahkan Pasta Gigi sejumlah 3 item dengan harga per item Rp 15000\n",
      "Berhasil menambahkan Sabun Cair sejumlah 2 item dengan harga per item Rp 45000\n",
      "Berikut daftar belanja Andi secara keseluruhan :\n",
      "\n",
      "|   No |  Nama Item  |   Jumlah Item |   Harga/Item |   Total Harga |\n",
      "|------|-------------|---------------|--------------|---------------|\n",
      "|    1 | Ayam Goreng |             2 |        50000 |        100000 |\n",
      "|    2 | Pasta Gigi  |             3 |        15000 |         45000 |\n",
      "|    3 | Sabun Cair  |             2 |        45000 |         90000 |\n"
     ]
    }
   ],
   "source": [
    "trnsct_123.add_item('Ayam Goreng',2,50_000)\n",
    "trnsct_123.add_item('Pasta Gigi',3,15_000)\n",
    "trnsct_123.add_item('Sabun Cair',2,45_000)\n",
    "trnsct_123.display()"
   ]
  },
  {
   "cell_type": "markdown",
   "id": "2e3240b4",
   "metadata": {},
   "source": [
    "### Test-2 : Mengupdate Nama Item"
   ]
  },
  {
   "cell_type": "code",
   "execution_count": 4,
   "id": "939cd9d6",
   "metadata": {},
   "outputs": [
    {
     "name": "stdout",
     "output_type": "stream",
     "text": [
      "Berhasil memperbaharui nama item Sabun Cair menjadi Shampoo\n",
      "Berikut daftar belanja Andi secara keseluruhan :\n",
      "\n",
      "|   No |  Nama Item  |   Jumlah Item |   Harga/Item |   Total Harga |\n",
      "|------|-------------|---------------|--------------|---------------|\n",
      "|    1 | Ayam Goreng |             2 |        50000 |        100000 |\n",
      "|    2 | Pasta Gigi  |             3 |        15000 |         45000 |\n",
      "|    3 |   Shampoo   |             2 |        45000 |         90000 |\n"
     ]
    }
   ],
   "source": [
    "trnsct_123.update_item_name('Sabun Cair','Shampoo')\n",
    "trnsct_123.display()"
   ]
  },
  {
   "cell_type": "markdown",
   "id": "91555ae3",
   "metadata": {},
   "source": []
  },
  {
   "cell_type": "markdown",
   "id": "01d2e773",
   "metadata": {},
   "source": [
    "### Test-3 : Mengupdate Jumlah Item"
   ]
  },
  {
   "cell_type": "code",
   "execution_count": 5,
   "id": "38a082ba",
   "metadata": {},
   "outputs": [
    {
     "name": "stdout",
     "output_type": "stream",
     "text": [
      "Berhasil memperbaharui jumlah item pada Shampoo menjadi 4 item\n",
      "Berikut daftar belanja Andi secara keseluruhan :\n",
      "\n",
      "|   No |  Nama Item  |   Jumlah Item |   Harga/Item |   Total Harga |\n",
      "|------|-------------|---------------|--------------|---------------|\n",
      "|    1 | Ayam Goreng |             2 |        50000 |        100000 |\n",
      "|    2 | Pasta Gigi  |             3 |        15000 |         45000 |\n",
      "|    3 |   Shampoo   |             4 |        45000 |        180000 |\n"
     ]
    }
   ],
   "source": [
    "trnsct_123.update_item_qty('Shampoo',4)\n",
    "trnsct_123.display()"
   ]
  },
  {
   "cell_type": "markdown",
   "id": "d1687dbf",
   "metadata": {},
   "source": [
    "### Test-4 : Mengupdate Harga Item"
   ]
  },
  {
   "cell_type": "code",
   "execution_count": 6,
   "id": "26ac788d",
   "metadata": {},
   "outputs": [
    {
     "name": "stdout",
     "output_type": "stream",
     "text": [
      "Berhasil memperbaharui harga item pada Shampoo menjadi 25000 item\n",
      "Berikut daftar belanja Andi secara keseluruhan :\n",
      "\n",
      "|   No |  Nama Item  |   Jumlah Item |   Harga/Item |   Total Harga |\n",
      "|------|-------------|---------------|--------------|---------------|\n",
      "|    1 | Ayam Goreng |             2 |        50000 |        100000 |\n",
      "|    2 | Pasta Gigi  |             3 |        15000 |         45000 |\n",
      "|    3 |   Shampoo   |             4 |        25000 |        100000 |\n"
     ]
    }
   ],
   "source": [
    "trnsct_123.update_item_price('Shampoo',25_000)\n",
    "trnsct_123.display()"
   ]
  },
  {
   "cell_type": "markdown",
   "id": "ad887148",
   "metadata": {},
   "source": [
    "### Test-5 : Check Seluruh Pesanan"
   ]
  },
  {
   "cell_type": "code",
   "execution_count": 7,
   "id": "30b91a16",
   "metadata": {},
   "outputs": [
    {
     "name": "stdout",
     "output_type": "stream",
     "text": [
      "Pemesanan sudah benar\n",
      "====================================================================================================\n",
      "Berikut daftar belanja Andi secara keseluruhan :\n",
      "\n",
      "|   No |  Nama Item  |   Jumlah Item |   Harga/Item |   Total Harga |\n",
      "|------|-------------|---------------|--------------|---------------|\n",
      "|    1 | Ayam Goreng |             2 |        50000 |        100000 |\n",
      "|    2 | Pasta Gigi  |             3 |        15000 |         45000 |\n",
      "|    3 |   Shampoo   |             4 |        25000 |        100000 |\n"
     ]
    }
   ],
   "source": [
    "trnsct_123.check_order()"
   ]
  },
  {
   "cell_type": "markdown",
   "id": "0a8312e7",
   "metadata": {},
   "source": [
    "### Test-6 : Total Seluruh Harga"
   ]
  },
  {
   "cell_type": "code",
   "execution_count": 8,
   "id": "4c6568ee",
   "metadata": {},
   "outputs": [
    {
     "name": "stdout",
     "output_type": "stream",
     "text": [
      "Total belanja setelah mendapat diskon 5% adalah senilai Rp 232,750\n"
     ]
    }
   ],
   "source": [
    "trnsct_123.total_price()"
   ]
  },
  {
   "cell_type": "markdown",
   "id": "d3ef60d1",
   "metadata": {},
   "source": [
    "### Test-7 : Menghapus Item"
   ]
  },
  {
   "cell_type": "code",
   "execution_count": 9,
   "id": "9450127c",
   "metadata": {},
   "outputs": [
    {
     "name": "stdout",
     "output_type": "stream",
     "text": [
      "Item Shampoo telah berhasil dihapus\n",
      "Berikut daftar belanja Andi secara keseluruhan :\n",
      "\n",
      "|   No |  Nama Item  |   Jumlah Item |   Harga/Item |   Total Harga |\n",
      "|------|-------------|---------------|--------------|---------------|\n",
      "|    1 | Ayam Goreng |             2 |        50000 |        100000 |\n",
      "|    2 | Pasta Gigi  |             3 |        15000 |         45000 |\n"
     ]
    }
   ],
   "source": [
    "trnsct_123.delete_item('Shampoo')\n",
    "trnsct_123.display()"
   ]
  },
  {
   "cell_type": "markdown",
   "id": "7563f32d",
   "metadata": {},
   "source": [
    "### Test-8 : Mengkosongkan Keranjang Belanja"
   ]
  },
  {
   "cell_type": "code",
   "execution_count": 10,
   "id": "fb2890ca",
   "metadata": {},
   "outputs": [
    {
     "name": "stdout",
     "output_type": "stream",
     "text": [
      "Semua daftar belanja telah dihapus\n"
     ]
    }
   ],
   "source": [
    "trnsct_123.reset_transaction()"
   ]
  },
  {
   "cell_type": "markdown",
   "id": "64772193",
   "metadata": {},
   "source": [
    "## Pengecekan Kondisi Format Data Tidak Sesuai (Error Checking Validation)"
   ]
  },
  {
   "cell_type": "markdown",
   "id": "14e033e8",
   "metadata": {},
   "source": [
    "### Test-9 : Input Data Pada add_item Tidak Sesuai"
   ]
  },
  {
   "cell_type": "code",
   "execution_count": 11,
   "id": "4987463f",
   "metadata": {},
   "outputs": [
    {
     "name": "stdout",
     "output_type": "stream",
     "text": [
      "Mohon masukkan nama item dengan format yang sesuai\n",
      "Mohon masukkan jumlah item dengan format yang sesuai\n",
      "Mohon masukkan harga item dengan format yang sesuai\n"
     ]
    }
   ],
   "source": [
    "trnsct_123.add_item(50,2,45_000)\n",
    "trnsct_123.add_item('Pasta Gigi','Shampoo',15_000)\n",
    "trnsct_123.add_item('Body Lotin',2,'Handuk')"
   ]
  },
  {
   "cell_type": "markdown",
   "id": "735d9ef7",
   "metadata": {},
   "source": [
    "### Test-10 : Input Data Pada update_item_name Tidak Sesuai"
   ]
  },
  {
   "cell_type": "code",
   "execution_count": 12,
   "id": "2daaf126",
   "metadata": {},
   "outputs": [
    {
     "name": "stdout",
     "output_type": "stream",
     "text": [
      "Berhasil menambahkan Ayam Goreng sejumlah 2 item dengan harga per item Rp 50000\n",
      "Mohon masukkan nama item dengan format yang sesuai\n",
      "Mohon cek kembali, item Kipas Angin tidak ada di daftar belanja\n"
     ]
    }
   ],
   "source": [
    "trnsct_123.add_item('Ayam Goreng',2,50_000)\n",
    "trnsct_123.update_item_name('Ayam Goreng',25)\n",
    "trnsct_123.update_item_name('Kipas Angin','Gelas Kaca')"
   ]
  },
  {
   "cell_type": "markdown",
   "id": "a047601b",
   "metadata": {},
   "source": [
    "### Test-11 : Input Data Pada update_item_qty Tidak Sesuai"
   ]
  },
  {
   "cell_type": "code",
   "execution_count": 13,
   "id": "5164858a",
   "metadata": {},
   "outputs": [
    {
     "name": "stdout",
     "output_type": "stream",
     "text": [
      "Mohon masukkan jumlah item dengan format yang sesuai\n",
      "Mohon cek kembali, item Kipas Angin tidak ada di daftar belanja\n"
     ]
    }
   ],
   "source": [
    "trnsct_123.update_item_qty('Ayam Goreng','90')\n",
    "trnsct_123.update_item_qty('Kipas Angin',3)"
   ]
  },
  {
   "cell_type": "markdown",
   "id": "984b37b2",
   "metadata": {},
   "source": [
    "### Test-12 : Input Data Pada update_item_price Tidak Sesuai"
   ]
  },
  {
   "cell_type": "code",
   "execution_count": 14,
   "id": "bdc90831",
   "metadata": {},
   "outputs": [
    {
     "name": "stdout",
     "output_type": "stream",
     "text": [
      "Mohon masukkan harga item dengan format yang sesuai\n",
      "Mohon cek kembali, item Kipas Angin tidak ada di daftar belanja\n"
     ]
    }
   ],
   "source": [
    "trnsct_123.update_item_price('Ayam Goreng','30,000')\n",
    "trnsct_123.update_item_price('Kipas Angin',3)"
   ]
  },
  {
   "cell_type": "markdown",
   "id": "964f6b04",
   "metadata": {},
   "source": [
    "### Test-13 : Input Data Pada delete_item Tidak Sesuai"
   ]
  },
  {
   "cell_type": "code",
   "execution_count": 15,
   "id": "50614a25",
   "metadata": {},
   "outputs": [
    {
     "name": "stdout",
     "output_type": "stream",
     "text": [
      "Mohon cek kembali, item Kipas Angin yang akan dihapus tidak ada di daftar belanja\n"
     ]
    }
   ],
   "source": [
    "trnsct_123.delete_item('Kipas Angin')"
   ]
  },
  {
   "cell_type": "markdown",
   "id": "a97b9bfa",
   "metadata": {},
   "source": [
    "### Test-14 : reset_transaction Saat Belum ada Daftar Belanja "
   ]
  },
  {
   "cell_type": "code",
   "execution_count": 16,
   "id": "d1807dbf",
   "metadata": {},
   "outputs": [
    {
     "name": "stdout",
     "output_type": "stream",
     "text": [
      "Tidak ada barang terhapus, Anda belum memasukkan daftar belanjar\n"
     ]
    }
   ],
   "source": [
    "trnsct_123=Transaction()\n",
    "trnsct_123.reset_transaction()"
   ]
  },
  {
   "cell_type": "markdown",
   "id": "2605e95f",
   "metadata": {},
   "source": [
    "### Test-15 : check_order Saat Belum ada Pesanan"
   ]
  },
  {
   "cell_type": "code",
   "execution_count": 17,
   "id": "e85e2ad2",
   "metadata": {},
   "outputs": [
    {
     "name": "stdout",
     "output_type": "stream",
     "text": [
      "Belum ada daftar item, mohon masukkan daftar item terlebih dahulu\n"
     ]
    }
   ],
   "source": [
    "trnsct_123=Transaction()\n",
    "trnsct_123.check_order()"
   ]
  }
 ],
 "metadata": {
  "kernelspec": {
   "display_name": "Python 3",
   "language": "python",
   "name": "python3"
  },
  "language_info": {
   "codemirror_mode": {
    "name": "ipython",
    "version": 3
   },
   "file_extension": ".py",
   "mimetype": "text/x-python",
   "name": "python",
   "nbconvert_exporter": "python",
   "pygments_lexer": "ipython3",
   "version": "3.8.8"
  }
 },
 "nbformat": 4,
 "nbformat_minor": 5
}
